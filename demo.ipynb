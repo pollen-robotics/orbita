{
 "cells": [
  {
   "cell_type": "code",
   "execution_count": 10,
   "id": "527c4dfd",
   "metadata": {},
   "outputs": [],
   "source": [
    "import time\n",
    "import serial\n",
    "import struct\n",
    "import numpy as np\n",
    "\n",
    "s = serial.Serial(port='/dev/tty.usbserial-0001', baudrate=500000, timeout=1)\n",
    "\n",
    "registers = {\n",
    "    'angle_limit': (0, 'ii', 'rw'),\n",
    "    'temperature_shutdown': (1, 'f', 'rw'),\n",
    "    'present_position': (10, 'i', 'r'),\n",
    "    'goal_position': (20, 'i', 'rw'),\n",
    "    'torque_enable': (30, '?', 'rw'),\n",
    "    'pid': (31, 'fff', 'rw'),\n",
    "    'temperature': (32, 'f', 'r'),\n",
    "}\n",
    "\n",
    "def send_msg(io, id, instr, verbose):\n",
    "    header = bytearray([0xff, 0xff, id, len(instr) + 1])\n",
    "        \n",
    "    msg = header + instr\n",
    "    crc = 255 - sum(msg[2:]) % 256\n",
    "    msg = msg + bytearray([crc])\n",
    "\n",
    "    if verbose:\n",
    "        print('Sending \"{}\"'.format(' '.join([hex(x) for x in msg])))\n",
    "        \n",
    "    io.write(msg)\n",
    "    \n",
    "    header = io.read(4)\n",
    "    _, _, id, length = header\n",
    "    status = io.read(length)\n",
    "    \n",
    "    msg = header + status\n",
    "    if verbose:\n",
    "        print('Got \"{}\"'.format(' '.join([hex(x) for x in msg])))\n",
    "        \n",
    "    err = msg[4]\n",
    "    if err != 0:\n",
    "        raise Exception('ERROR', err)\n",
    "        \n",
    "    time.sleep(0.001)\n",
    "    \n",
    "    return msg\n",
    "\n",
    "def send_ping(io, id, verbose=False):\n",
    "    _ = send_msg(io, id, bytearray([0x01]), verbose)\n",
    "\n",
    "def send_read(io, id, reg, verbose=False):\n",
    "    addr, datafmt, _ = registers[reg]\n",
    "    msg = send_msg(io, id, bytearray([0x02, addr, 0x01]), verbose)\n",
    "\n",
    "    payload = msg[5:-1]\n",
    "    \n",
    "    val = list(struct.unpack(3 * datafmt, payload))\n",
    "    if len(datafmt) > 1:\n",
    "        val = np.array(val).reshape(len(datafmt), -1).tolist()\n",
    "    return val\n",
    "\n",
    "def send_write(io, id, reg, values, verbose=False):\n",
    "    addr, datafmt, perm = registers[reg]\n",
    "\n",
    "    if 'w' not in perm:\n",
    "        raise ValueError(f'Register \"{reg}\" is read only!')\n",
    "\n",
    "    coded_values = struct.pack(\n",
    "        datafmt * 3,\n",
    "        *np.array(values).flatten().tolist()\n",
    "    )\n",
    "        \n",
    "    _ = send_msg(io, id, bytearray([0x03, addr]) + coded_values, verbose)"
   ]
  },
  {
   "cell_type": "code",
   "execution_count": 11,
   "id": "3d9e680f",
   "metadata": {},
   "outputs": [],
   "source": [
    "send_ping(s, 40, verbose=False)"
   ]
  },
  {
   "cell_type": "code",
   "execution_count": null,
   "id": "fdacb4e0",
   "metadata": {},
   "outputs": [],
   "source": [
    "send_read(s, 40, 'present_position', verbose=False)"
   ]
  },
  {
   "cell_type": "code",
   "execution_count": 2,
   "id": "ba73b9d1",
   "metadata": {},
   "outputs": [
    {
     "name": "stdout",
     "output_type": "stream",
     "text": [
      "ping 0\n",
      "Angle_limit: [[-12888, 12888, -12888], [12888, -12888, 12888]]\n",
      "Temperature_shutdown: [50.0, 50.0, 50.0]\n",
      "Present_position: [-8784, 7560, 6394]\n",
      "Goal_position: [0, 0, 0]\n",
      "Torque_enable: [False, False, False]\n",
      "Pid: [[1.0, 0.0, 0.0], [1.0, 0.0, 0.0], [1.0, 0.0, 0.0]]\n",
      "Temperature: [0.0, 0.0, 0.0]\n"
     ]
    }
   ],
   "source": [
    "print('ping', send_ping(s, id=40, verbose=False))\n",
    "\n",
    "for reg in registers.keys():\n",
    "    val = send_read(s, 40, reg)\n",
    "    print(f'{reg.capitalize()}: {val}')"
   ]
  },
  {
   "cell_type": "code",
   "execution_count": 5,
   "id": "4503878d",
   "metadata": {},
   "outputs": [
    {
     "name": "stdout",
     "output_type": "stream",
     "text": [
      "[10, 0, 30]\n",
      "[10, 0, 30]\n"
     ]
    }
   ],
   "source": [
    "print(send_read(s, 40, 'goal_position'))\n",
    "send_write(s, 40, 'goal_position', [10, 0, 30])\n",
    "print(send_read(s, 40, 'goal_position'))"
   ]
  },
  {
   "cell_type": "code",
   "execution_count": 6,
   "id": "df7a184c",
   "metadata": {},
   "outputs": [
    {
     "name": "stdout",
     "output_type": "stream",
     "text": [
      "[[1.0, 0.0, 0.0], [1.0, 0.0, 0.0], [1.0, 0.0, 0.0]]\n",
      "[[1.0, 0.0, 0.0], [2.0, 0.0, 0.0], [1.5, 9.999999747378752e-05, 0.0]]\n"
     ]
    }
   ],
   "source": [
    "print(send_read(s, 40, 'pid'))\n",
    "send_write(s, 40, 'pid', [[1.0, 0.0, 0.0], [2.0, 0.0, 0.0], [1.5, 0.0001, 0.0]])\n",
    "print(send_read(s, 40, 'pid'))"
   ]
  },
  {
   "cell_type": "code",
   "execution_count": 7,
   "id": "dbf6980b",
   "metadata": {},
   "outputs": [
    {
     "name": "stdout",
     "output_type": "stream",
     "text": [
      "[False, False, False]\n",
      "[False, True, False]\n"
     ]
    }
   ],
   "source": [
    "print(send_read(s, 40, 'torque_enable'))\n",
    "send_write(s, 40, 'torque_enable', [False, True, False])\n",
    "print(send_read(s, 40, 'torque_enable'))"
   ]
  },
  {
   "cell_type": "code",
   "execution_count": null,
   "id": "0cfea633",
   "metadata": {},
   "outputs": [],
   "source": []
  }
 ],
 "metadata": {
  "kernelspec": {
   "display_name": "Python 3 (ipykernel)",
   "language": "python",
   "name": "python3"
  },
  "language_info": {
   "codemirror_mode": {
    "name": "ipython",
    "version": 3
   },
   "file_extension": ".py",
   "mimetype": "text/x-python",
   "name": "python",
   "nbconvert_exporter": "python",
   "pygments_lexer": "ipython3",
   "version": "3.9.10"
  }
 },
 "nbformat": 4,
 "nbformat_minor": 5
}

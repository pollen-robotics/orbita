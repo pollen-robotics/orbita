{
 "cells": [
  {
   "cell_type": "code",
   "execution_count": 24,
   "id": "527c4dfd",
   "metadata": {},
   "outputs": [],
   "source": [
    "%matplotlib inline\n",
    "\n",
    "import time\n",
    "import serial\n",
    "import struct\n",
    "import numpy as np\n",
    "\n",
    "from matplotlib import pyplot as plt\n",
    "\n",
    "s = serial.Serial(port='/dev/tty.usbserial-0001', baudrate=500000, timeout=1)\n",
    "\n",
    "registers = {\n",
    "    'angle_limit': (0, 'ii', 'rw'),\n",
    "    'temperature_shutdown': (1, 'f', 'rw'),\n",
    "    'present_position': (10, 'i', 'r'),\n",
    "    'goal_position': (20, 'i', 'rw'),\n",
    "    'torque_enable': (30, '?', 'rw'),\n",
    "    'pid': (31, 'fff', 'rw'),\n",
    "    'temperature': (32, 'f', 'r'),\n",
    "}\n",
    "\n",
    "def send_msg(io, id, instr, verbose):\n",
    "    header = bytearray([0xff, 0xff, id, len(instr) + 1])\n",
    "        \n",
    "    msg = header + instr\n",
    "    crc = 255 - sum(msg[2:]) % 256\n",
    "    msg = msg + bytearray([crc])\n",
    "\n",
    "    if verbose:\n",
    "        print('Sending \"{}\"'.format(' '.join([hex(x) for x in msg])))\n",
    "        \n",
    "    io.write(msg)\n",
    "    \n",
    "    header = io.read(4)\n",
    "    _, _, id, length = header\n",
    "    status = io.read(length)\n",
    "    \n",
    "    msg = header + status\n",
    "    if verbose:\n",
    "        print('Got \"{}\"'.format(' '.join([hex(x) for x in msg])))\n",
    "        \n",
    "    err = msg[4]\n",
    "    if err != 0:\n",
    "        raise Exception('ERROR', err)\n",
    "        \n",
    "    time.sleep(0.001)\n",
    "    \n",
    "    return msg\n",
    "\n",
    "def send_ping(io, id, verbose=False):\n",
    "    _ = send_msg(io, id, bytearray([0x01]), verbose)\n",
    "\n",
    "def send_read(io, id, reg, verbose=False):\n",
    "    addr, datafmt, perm = registers[reg]\n",
    "    msg = send_msg(io, id, bytearray([0x02, addr, 0x01]), verbose)\n",
    "\n",
    "    if 'r' not in perm:\n",
    "        raise ValueError(f'Register \"{reg}\" is write only!')\n",
    "\n",
    "    payload = msg[5:-1]\n",
    "    \n",
    "    val = list(struct.unpack(3 * datafmt, payload))\n",
    "    if len(datafmt) > 1:\n",
    "        val = np.array(val).reshape(len(datafmt), -1).tolist()\n",
    "    return val\n",
    "\n",
    "def send_write(io, id, reg, values, verbose=False):\n",
    "    addr, datafmt, perm = registers[reg]\n",
    "\n",
    "    if 'w' not in perm:\n",
    "        raise ValueError(f'Register \"{reg}\" is read only!')\n",
    "\n",
    "    coded_values = struct.pack(\n",
    "        datafmt * 3,\n",
    "        *np.array(values).flatten().tolist()\n",
    "    )\n",
    "        \n",
    "    _ = send_msg(io, id, bytearray([0x03, addr]) + coded_values, verbose)"
   ]
  },
  {
   "cell_type": "code",
   "execution_count": 4,
   "id": "3d9e680f",
   "metadata": {},
   "outputs": [
    {
     "name": "stdout",
     "output_type": "stream",
     "text": [
      "Sending \"0xff 0xff 0x28 0x2 0x1 0xd4\"\n",
      "Got \"0xff 0xff 0x28 0x2 0x0 0xd5\"\n"
     ]
    }
   ],
   "source": [
    "send_ping(s, 40, verbose=True)"
   ]
  },
  {
   "cell_type": "code",
   "execution_count": 5,
   "id": "29f18b38",
   "metadata": {},
   "outputs": [
    {
     "data": {
      "text/plain": [
       "(1.8756842613220215, 0.09352951302102538)"
      ]
     },
     "execution_count": 5,
     "metadata": {},
     "output_type": "execute_result"
    }
   ],
   "source": [
    "l = []\n",
    "\n",
    "for _ in range(100):\n",
    "    t0 = time.time()\n",
    "    send_ping(s, 40, verbose=False)\n",
    "    t1 = time.time()\n",
    "    l.append(t1 - t0)\n",
    "    \n",
    "np.mean(l) * 1000, np.std(l) * 1000"
   ]
  },
  {
   "cell_type": "raw",
   "id": "4d39287e",
   "metadata": {},
   "source": [
    "send_read(s, 40, 'present_position', verbose=True)"
   ]
  },
  {
   "cell_type": "code",
   "execution_count": 6,
   "id": "ba73b9d1",
   "metadata": {},
   "outputs": [
    {
     "name": "stdout",
     "output_type": "stream",
     "text": [
      "ping None\n",
      "Angle_limit: [[-12888, 12888, -12888], [12888, -12888, 12888]]\n",
      "Temperature_shutdown: [50.0, 50.0, 50.0]\n",
      "Present_position: [18328, 15921, 29066]\n",
      "Goal_position: [0, 0, 0]\n",
      "Torque_enable: [False, False, False]\n",
      "Pid: [[1.0, 0.0, 0.0], [1.0, 0.0, 0.0], [1.0, 0.0, 0.0]]\n",
      "Temperature: [0.0, 0.0, 0.0]\n"
     ]
    }
   ],
   "source": [
    "print('ping', send_ping(s, id=40, verbose=False))\n",
    "\n",
    "for reg in registers.keys():\n",
    "    val = send_read(s, 40, reg)\n",
    "    print(f'{reg.capitalize()}: {val}')"
   ]
  },
  {
   "cell_type": "code",
   "execution_count": 7,
   "id": "4503878d",
   "metadata": {},
   "outputs": [
    {
     "name": "stdout",
     "output_type": "stream",
     "text": [
      "[0, 0, 0]\n",
      "[10, 0, 30]\n"
     ]
    }
   ],
   "source": [
    "print(send_read(s, 40, 'goal_position'))\n",
    "send_write(s, 40, 'goal_position', [10, 0, 30])\n",
    "print(send_read(s, 40, 'goal_position'))"
   ]
  },
  {
   "cell_type": "code",
   "execution_count": 8,
   "id": "df7a184c",
   "metadata": {},
   "outputs": [
    {
     "name": "stdout",
     "output_type": "stream",
     "text": [
      "[[1.0, 0.0, 0.0], [1.0, 0.0, 0.0], [1.0, 0.0, 0.0]]\n",
      "[[1.0, 0.0, 0.0], [2.0, 0.0, 0.0], [1.5, 9.999999747378752e-05, 0.0]]\n"
     ]
    }
   ],
   "source": [
    "print(send_read(s, 40, 'pid'))\n",
    "send_write(s, 40, 'pid', [[1.0, 0.0, 0.0], [2.0, 0.0, 0.0], [1.5, 0.0001, 0.0]])\n",
    "print(send_read(s, 40, 'pid'))"
   ]
  },
  {
   "cell_type": "code",
   "execution_count": 9,
   "id": "dbf6980b",
   "metadata": {},
   "outputs": [
    {
     "name": "stdout",
     "output_type": "stream",
     "text": [
      "[False, False, False]\n",
      "[False, True, False]\n"
     ]
    }
   ],
   "source": [
    "print(send_read(s, 40, 'torque_enable'))\n",
    "send_write(s, 40, 'torque_enable', [False, True, False])\n",
    "print(send_read(s, 40, 'torque_enable'))"
   ]
  },
  {
   "cell_type": "code",
   "execution_count": 10,
   "id": "d6bc1fc2",
   "metadata": {},
   "outputs": [],
   "source": [
    "send_write(s, 40, 'torque_enable', [True, True, True])"
   ]
  },
  {
   "cell_type": "code",
   "execution_count": 11,
   "id": "38aa3d5c",
   "metadata": {},
   "outputs": [
    {
     "data": {
      "text/plain": [
       "[0.0, 0.0, 0.0]"
      ]
     },
     "execution_count": 11,
     "metadata": {},
     "output_type": "execute_result"
    }
   ],
   "source": [
    "send_read(s, 40, 'temperature')"
   ]
  },
  {
   "cell_type": "code",
   "execution_count": 12,
   "id": "0cfea633",
   "metadata": {},
   "outputs": [],
   "source": [
    "l = []\n",
    "\n",
    "t0 = time.time()\n",
    "\n",
    "for _ in range(10000):\n",
    "    send_write(s, 40, 'goal_position', [10, 0, 30])\n",
    "    send_read(s, 40, 'present_position')\n",
    "\n",
    "    t = time.time()\n",
    "    dt = t - t0\n",
    "\n",
    "    sleep_time = (0.01 - dt) - 0.001\n",
    "\n",
    "    if sleep_time > 0:\n",
    "        time.sleep(sleep_time)\n",
    "    \n",
    "    t0 = time.time()\n",
    "    l.append(time.time())"
   ]
  },
  {
   "cell_type": "code",
   "execution_count": 14,
   "id": "c06b84a5",
   "metadata": {},
   "outputs": [
    {
     "data": {
      "text/plain": [
       "(array([ 945.,  788.,  555.,  481.,  513.,  519., 2292., 3257.,  527.,\n",
       "         122.]),\n",
       " array([0.00900984, 0.00913656, 0.00926328, 0.00939   , 0.00951672,\n",
       "        0.00964344, 0.00977015, 0.00989687, 0.01002359, 0.01015031,\n",
       "        0.01027703]),\n",
       " <BarContainer object of 10 artists>)"
      ]
     },
     "execution_count": 14,
     "metadata": {},
     "output_type": "execute_result"
    },
    {
     "data": {
      "image/png": "[encoded data removed]",
      "text/plain": [
       "<Figure size 432x288 with 1 Axes>"
      ]
     },
     "metadata": {
      "needs_background": "light"
     },
     "output_type": "display_data"
    }
   ],
   "source": [
    "plt.figure()\n",
    "plt.hist(np.diff(l))"
   ]
  },
  {
   "cell_type": "code",
   "execution_count": null,
   "id": "44d372b0",
   "metadata": {},
   "outputs": [],
   "source": [
    "i = 0"
   ]
  },
  {
   "cell_type": "code",
   "execution_count": 22,
   "id": "13af75fa",
   "metadata": {},
   "outputs": [],
   "source": [
    "s.flush()"
   ]
  },
  {
   "cell_type": "code",
   "execution_count": 25,
   "id": "4729acc7",
   "metadata": {},
   "outputs": [
    {
     "ename": "SerialException",
     "evalue": "read failed: [Errno 6] Device not configured",
     "output_type": "error",
     "traceback": [
      "\u001b[0;31m---------------------------------------------------------------------------\u001b[0m",
      "\u001b[0;31mOSError\u001b[0m                                   Traceback (most recent call last)",
      "File \u001b[0;32m~/.virtualenvs/reachy/lib/python3.9/site-packages/serial/serialposix.py:575\u001b[0m, in \u001b[0;36mSerial.read\u001b[0;34m(self, size)\u001b[0m\n\u001b[1;32m    574\u001b[0m         \u001b[38;5;28;01mbreak\u001b[39;00m   \u001b[38;5;66;03m# timeout\u001b[39;00m\n\u001b[0;32m--> 575\u001b[0m     buf \u001b[38;5;241m=\u001b[39m \u001b[43mos\u001b[49m\u001b[38;5;241;43m.\u001b[39;49m\u001b[43mread\u001b[49m\u001b[43m(\u001b[49m\u001b[38;5;28;43mself\u001b[39;49m\u001b[38;5;241;43m.\u001b[39;49m\u001b[43mfd\u001b[49m\u001b[43m,\u001b[49m\u001b[43m \u001b[49m\u001b[43msize\u001b[49m\u001b[43m \u001b[49m\u001b[38;5;241;43m-\u001b[39;49m\u001b[43m \u001b[49m\u001b[38;5;28;43mlen\u001b[39;49m\u001b[43m(\u001b[49m\u001b[43mread\u001b[49m\u001b[43m)\u001b[49m\u001b[43m)\u001b[49m\n\u001b[1;32m    576\u001b[0m \u001b[38;5;28;01mexcept\u001b[39;00m \u001b[38;5;167;01mOSError\u001b[39;00m \u001b[38;5;28;01mas\u001b[39;00m e:\n\u001b[1;32m    577\u001b[0m     \u001b[38;5;66;03m# this is for Python 3.x where select.error is a subclass of\u001b[39;00m\n\u001b[1;32m    578\u001b[0m     \u001b[38;5;66;03m# OSError ignore BlockingIOErrors and EINTR. other errors are shown\u001b[39;00m\n\u001b[1;32m    579\u001b[0m     \u001b[38;5;66;03m# https://www.python.org/dev/peps/pep-0475.\u001b[39;00m\n",
      "\u001b[0;31mOSError\u001b[0m: [Errno 6] Device not configured",
      "\nDuring handling of the above exception, another exception occurred:\n",
      "\u001b[0;31mSerialException\u001b[0m                           Traceback (most recent call last)",
      "Input \u001b[0;32mIn [25]\u001b[0m, in \u001b[0;36m<module>\u001b[0;34m\u001b[0m\n\u001b[1;32m      1\u001b[0m \u001b[38;5;28;01mwhile\u001b[39;00m \u001b[38;5;28;01mTrue\u001b[39;00m:\n\u001b[0;32m----> 2\u001b[0m     \u001b[43msend_write\u001b[49m\u001b[43m(\u001b[49m\u001b[43ms\u001b[49m\u001b[43m,\u001b[49m\u001b[43m \u001b[49m\u001b[38;5;241;43m40\u001b[39;49m\u001b[43m,\u001b[49m\u001b[43m \u001b[49m\u001b[38;5;124;43m'\u001b[39;49m\u001b[38;5;124;43mgoal_position\u001b[39;49m\u001b[38;5;124;43m'\u001b[39;49m\u001b[43m,\u001b[49m\u001b[43m \u001b[49m\u001b[43m[\u001b[49m\u001b[38;5;241;43m10\u001b[39;49m\u001b[43m,\u001b[49m\u001b[43m \u001b[49m\u001b[38;5;241;43m0\u001b[39;49m\u001b[43m,\u001b[49m\u001b[43m \u001b[49m\u001b[38;5;241;43m30\u001b[39;49m\u001b[43m]\u001b[49m\u001b[43m)\u001b[49m\n\u001b[1;32m      3\u001b[0m     send_read(s, \u001b[38;5;241m40\u001b[39m, \u001b[38;5;124m'\u001b[39m\u001b[38;5;124mpresent_position\u001b[39m\u001b[38;5;124m'\u001b[39m)\n\u001b[1;32m      5\u001b[0m     i \u001b[38;5;241m+\u001b[39m\u001b[38;5;241m=\u001b[39m \u001b[38;5;241m1\u001b[39m\n",
      "Input \u001b[0;32mIn [24]\u001b[0m, in \u001b[0;36msend_write\u001b[0;34m(io, id, reg, values, verbose)\u001b[0m\n\u001b[1;32m     72\u001b[0m     \u001b[38;5;28;01mraise\u001b[39;00m \u001b[38;5;167;01mValueError\u001b[39;00m(\u001b[38;5;124mf\u001b[39m\u001b[38;5;124m'\u001b[39m\u001b[38;5;124mRegister \u001b[39m\u001b[38;5;124m\"\u001b[39m\u001b[38;5;132;01m{\u001b[39;00mreg\u001b[38;5;132;01m}\u001b[39;00m\u001b[38;5;124m\"\u001b[39m\u001b[38;5;124m is read only!\u001b[39m\u001b[38;5;124m'\u001b[39m)\n\u001b[1;32m     74\u001b[0m coded_values \u001b[38;5;241m=\u001b[39m struct\u001b[38;5;241m.\u001b[39mpack(\n\u001b[1;32m     75\u001b[0m     datafmt \u001b[38;5;241m*\u001b[39m \u001b[38;5;241m3\u001b[39m,\n\u001b[1;32m     76\u001b[0m     \u001b[38;5;241m*\u001b[39mnp\u001b[38;5;241m.\u001b[39marray(values)\u001b[38;5;241m.\u001b[39mflatten()\u001b[38;5;241m.\u001b[39mtolist()\n\u001b[1;32m     77\u001b[0m )\n\u001b[0;32m---> 79\u001b[0m _ \u001b[38;5;241m=\u001b[39m \u001b[43msend_msg\u001b[49m\u001b[43m(\u001b[49m\u001b[43mio\u001b[49m\u001b[43m,\u001b[49m\u001b[43m \u001b[49m\u001b[38;5;28;43mid\u001b[39;49m\u001b[43m,\u001b[49m\u001b[43m \u001b[49m\u001b[38;5;28;43mbytearray\u001b[39;49m\u001b[43m(\u001b[49m\u001b[43m[\u001b[49m\u001b[38;5;241;43m0x03\u001b[39;49m\u001b[43m,\u001b[49m\u001b[43m \u001b[49m\u001b[43maddr\u001b[49m\u001b[43m]\u001b[49m\u001b[43m)\u001b[49m\u001b[43m \u001b[49m\u001b[38;5;241;43m+\u001b[39;49m\u001b[43m \u001b[49m\u001b[43mcoded_values\u001b[49m\u001b[43m,\u001b[49m\u001b[43m \u001b[49m\u001b[43mverbose\u001b[49m\u001b[43m)\u001b[49m\n",
      "Input \u001b[0;32mIn [24]\u001b[0m, in \u001b[0;36msend_msg\u001b[0;34m(io, id, instr, verbose)\u001b[0m\n\u001b[1;32m     31\u001b[0m     \u001b[38;5;28mprint\u001b[39m(\u001b[38;5;124m'\u001b[39m\u001b[38;5;124mSending \u001b[39m\u001b[38;5;124m\"\u001b[39m\u001b[38;5;132;01m{}\u001b[39;00m\u001b[38;5;124m\"\u001b[39m\u001b[38;5;124m'\u001b[39m\u001b[38;5;241m.\u001b[39mformat(\u001b[38;5;124m'\u001b[39m\u001b[38;5;124m \u001b[39m\u001b[38;5;124m'\u001b[39m\u001b[38;5;241m.\u001b[39mjoin([\u001b[38;5;28mhex\u001b[39m(x) \u001b[38;5;28;01mfor\u001b[39;00m x \u001b[38;5;129;01min\u001b[39;00m msg])))\n\u001b[1;32m     33\u001b[0m io\u001b[38;5;241m.\u001b[39mwrite(msg)\n\u001b[0;32m---> 35\u001b[0m header \u001b[38;5;241m=\u001b[39m \u001b[43mio\u001b[49m\u001b[38;5;241;43m.\u001b[39;49m\u001b[43mread\u001b[49m\u001b[43m(\u001b[49m\u001b[38;5;241;43m4\u001b[39;49m\u001b[43m)\u001b[49m\n\u001b[1;32m     36\u001b[0m _, _, \u001b[38;5;28mid\u001b[39m, length \u001b[38;5;241m=\u001b[39m header\n\u001b[1;32m     37\u001b[0m status \u001b[38;5;241m=\u001b[39m io\u001b[38;5;241m.\u001b[39mread(length)\n",
      "File \u001b[0;32m~/.virtualenvs/reachy/lib/python3.9/site-packages/serial/serialposix.py:581\u001b[0m, in \u001b[0;36mSerial.read\u001b[0;34m(self, size)\u001b[0m\n\u001b[1;32m    576\u001b[0m \u001b[38;5;28;01mexcept\u001b[39;00m \u001b[38;5;167;01mOSError\u001b[39;00m \u001b[38;5;28;01mas\u001b[39;00m e:\n\u001b[1;32m    577\u001b[0m     \u001b[38;5;66;03m# this is for Python 3.x where select.error is a subclass of\u001b[39;00m\n\u001b[1;32m    578\u001b[0m     \u001b[38;5;66;03m# OSError ignore BlockingIOErrors and EINTR. other errors are shown\u001b[39;00m\n\u001b[1;32m    579\u001b[0m     \u001b[38;5;66;03m# https://www.python.org/dev/peps/pep-0475.\u001b[39;00m\n\u001b[1;32m    580\u001b[0m     \u001b[38;5;28;01mif\u001b[39;00m e\u001b[38;5;241m.\u001b[39merrno \u001b[38;5;129;01mnot\u001b[39;00m \u001b[38;5;129;01min\u001b[39;00m (errno\u001b[38;5;241m.\u001b[39mEAGAIN, errno\u001b[38;5;241m.\u001b[39mEALREADY, errno\u001b[38;5;241m.\u001b[39mEWOULDBLOCK, errno\u001b[38;5;241m.\u001b[39mEINPROGRESS, errno\u001b[38;5;241m.\u001b[39mEINTR):\n\u001b[0;32m--> 581\u001b[0m         \u001b[38;5;28;01mraise\u001b[39;00m SerialException(\u001b[38;5;124m'\u001b[39m\u001b[38;5;124mread failed: \u001b[39m\u001b[38;5;132;01m{}\u001b[39;00m\u001b[38;5;124m'\u001b[39m\u001b[38;5;241m.\u001b[39mformat(e))\n\u001b[1;32m    582\u001b[0m \u001b[38;5;28;01mexcept\u001b[39;00m select\u001b[38;5;241m.\u001b[39merror \u001b[38;5;28;01mas\u001b[39;00m e:\n\u001b[1;32m    583\u001b[0m     \u001b[38;5;66;03m# this is for Python 2.x\u001b[39;00m\n\u001b[1;32m    584\u001b[0m     \u001b[38;5;66;03m# ignore BlockingIOErrors and EINTR. all errors are shown\u001b[39;00m\n\u001b[1;32m    585\u001b[0m     \u001b[38;5;66;03m# see also http://www.python.org/dev/peps/pep-3151/#select\u001b[39;00m\n\u001b[1;32m    586\u001b[0m     \u001b[38;5;28;01mif\u001b[39;00m e[\u001b[38;5;241m0\u001b[39m] \u001b[38;5;129;01mnot\u001b[39;00m \u001b[38;5;129;01min\u001b[39;00m (errno\u001b[38;5;241m.\u001b[39mEAGAIN, errno\u001b[38;5;241m.\u001b[39mEALREADY, errno\u001b[38;5;241m.\u001b[39mEWOULDBLOCK, errno\u001b[38;5;241m.\u001b[39mEINPROGRESS, errno\u001b[38;5;241m.\u001b[39mEINTR):\n",
      "\u001b[0;31mSerialException\u001b[0m: read failed: [Errno 6] Device not configured"
     ]
    }
   ],
   "source": [
    "while True:\n",
    "    send_write(s, 40, 'goal_position', [10, 0, 30])\n",
    "    send_read(s, 40, 'present_position')\n",
    "    \n",
    "    i += 1"
   ]
  },
  {
   "cell_type": "code",
   "execution_count": 16,
   "id": "ed7671b5",
   "metadata": {},
   "outputs": [
    {
     "data": {
      "text/plain": [
       "330737"
      ]
     },
     "execution_count": 16,
     "metadata": {},
     "output_type": "execute_result"
    }
   ],
   "source": [
    "i"
   ]
  },
  {
   "cell_type": "code",
   "execution_count": null,
   "id": "5a5d74d0",
   "metadata": {},
   "outputs": [],
   "source": []
  }
 ],
 "metadata": {
  "kernelspec": {
   "display_name": "Python 3 (ipykernel)",
   "language": "python",
   "name": "python3"
  },
  "language_info": {
   "codemirror_mode": {
    "name": "ipython",
    "version": 3
   },
   "file_extension": ".py",
   "mimetype": "text/x-python",
   "name": "python",
   "nbconvert_exporter": "python",
   "pygments_lexer": "ipython3",
   "version": "3.9.10"
  }
 },
 "nbformat": 4,
 "nbformat_minor": 5
}

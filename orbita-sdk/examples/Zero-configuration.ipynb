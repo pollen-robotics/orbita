{
 "cells": [
  {
   "cell_type": "code",
   "execution_count": 1,
   "id": "6d72aa4c",
   "metadata": {},
   "outputs": [],
   "source": [
    "from orbita_sdk.serial_io import OrbitaRegister, OrbitaSerialIO"
   ]
  },
  {
   "cell_type": "code",
   "execution_count": 2,
   "id": "3e185ca1",
   "metadata": {},
   "outputs": [],
   "source": [
    "io = OrbitaSerialIO(port='/dev/tty.usbserial-0001', baudrate=500000, timeout=0.1)"
   ]
  },
  {
   "cell_type": "code",
   "execution_count": 3,
   "id": "3cae8653",
   "metadata": {},
   "outputs": [],
   "source": [
    "import numpy as np\n",
    "\n",
    "resolution = 4096\n",
    "\n",
    "def set_offset(raw_zero: int, raw_pos: int):\n",
    "    \"\"\"Set the correct offset depending on the hardware zero and the disk starting position.\"\"\"\n",
    "    possibilities = [\n",
    "        raw_zero,\n",
    "        raw_zero + resolution,\n",
    "        raw_zero - resolution,\n",
    "    ]\n",
    "    distances = [abs(raw_pos - poss) for poss in possibilities]\n",
    "    closest = np.argmin(distances)\n",
    "    return possibilities[closest]"
   ]
  },
  {
   "cell_type": "code",
   "execution_count": 4,
   "id": "8ecfccb8",
   "metadata": {},
   "outputs": [
    {
     "name": "stdout",
     "output_type": "stream",
     "text": [
      "abs [3890, 3566, 1185]\n",
      "zero [3209, 2868, 496]\n",
      "offset [3209, 2868, 496]\n"
     ]
    },
    {
     "data": {
      "text/plain": [
       "[]"
      ]
     },
     "execution_count": 4,
     "metadata": {},
     "output_type": "execute_result"
    }
   ],
   "source": [
    "pos = io.read(40, OrbitaRegister.AbsolutePosition)[1]\n",
    "zero = io.read(40, OrbitaRegister.Zero)[1]\n",
    "offset = [set_offset(z, p) for z, p in zip(zero, pos)]\n",
    "\n",
    "print('abs', pos)\n",
    "print('zero', zero)\n",
    "print('offset', offset)\n",
    "\n",
    "io.write(40, OrbitaRegister.Recalibrate, ())"
   ]
  },
  {
   "cell_type": "code",
   "execution_count": 6,
   "id": "fb5ac076",
   "metadata": {},
   "outputs": [
    {
     "data": {
      "text/plain": [
       "[]"
      ]
     },
     "execution_count": 6,
     "metadata": {},
     "output_type": "execute_result"
    }
   ],
   "source": [
    "io.write(40, OrbitaRegister.Zero, pos)"
   ]
  },
  {
   "cell_type": "code",
   "execution_count": null,
   "id": "601684a9",
   "metadata": {},
   "outputs": [],
   "source": []
  }
 ],
 "metadata": {
  "kernelspec": {
   "display_name": "Python 3 (ipykernel)",
   "language": "python",
   "name": "python3"
  },
  "language_info": {
   "codemirror_mode": {
    "name": "ipython",
    "version": 3
   },
   "file_extension": ".py",
   "mimetype": "text/x-python",
   "name": "python",
   "nbconvert_exporter": "python",
   "pygments_lexer": "ipython3",
   "version": "3.9.10"
  }
 },
 "nbformat": 4,
 "nbformat_minor": 5
}

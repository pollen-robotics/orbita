{
 "cells": [
  {
   "cell_type": "code",
   "execution_count": 1,
   "id": "19efdf77",
   "metadata": {},
   "outputs": [],
   "source": [
    "import time\n",
    "import numpy as np\n",
    "from scipy.spatial.transform import Rotation\n",
    "\n",
    "from orbita_sdk import OrbitaSDK\n",
    "\n",
    "orb = OrbitaSDK(port='/dev/tty.usbserial-0001')"
   ]
  },
  {
   "cell_type": "code",
   "execution_count": 2,
   "id": "e590aae9",
   "metadata": {},
   "outputs": [],
   "source": [
    "orb.enable_torque()"
   ]
  },
  {
   "cell_type": "code",
   "execution_count": 4,
   "id": "9a8fede6",
   "metadata": {},
   "outputs": [],
   "source": [
    "def demo_1():\n",
    "    orb.set_target_orientation((0, 0, 0, 1))\n",
    "    time.sleep(1)\n",
    "\n",
    "    q = Rotation.from_euler('XYZ', np.deg2rad((30, 0, 0))).as_quat()\n",
    "    orb.set_target_orientation(q)\n",
    "    time.sleep(1)\n",
    "    \n",
    "    q = Rotation.from_euler('XYZ', np.deg2rad((0, 0, 0))).as_quat()\n",
    "    orb.set_target_orientation(q)\n",
    "    time.sleep(1)\n",
    "    \n",
    "    q = Rotation.from_euler('XYZ', np.deg2rad((0, 30, 0))).as_quat()\n",
    "    orb.set_target_orientation(q)\n",
    "    time.sleep(1)\n",
    "    \n",
    "    q = Rotation.from_euler('XYZ', np.deg2rad((0, 0, 0))).as_quat()\n",
    "    orb.set_target_orientation(q)\n",
    "    time.sleep(1)\n",
    "    \n",
    "    q = Rotation.from_euler('XYZ', np.deg2rad((0, 0, 60))).as_quat()\n",
    "    orb.set_target_orientation(q)\n",
    "    time.sleep(1)\n",
    "\n",
    "    q = Rotation.from_euler('XYZ', np.deg2rad((0, 0, 0))).as_quat()\n",
    "    orb.set_target_orientation(q)\n",
    "    time.sleep(1)\n",
    "\n",
    "demo_1()"
   ]
  },
  {
   "cell_type": "code",
   "execution_count": 6,
   "id": "0798e153",
   "metadata": {},
   "outputs": [],
   "source": [
    "def demo_2():\n",
    "    roll = np.deg2rad(25)\n",
    "    pitch = 0.0\n",
    "    \n",
    "    orb.set_target_orientation((0, 0, 0, 1))\n",
    "    time.sleep(1)\n",
    "\n",
    "    for yaw in np.linspace(0, 2 * np.pi, 300):\n",
    "        q = Rotation.from_euler('XYZ', (roll, pitch, yaw)).as_quat()\n",
    "        orb.set_target_orientation(q)\n",
    "        time.sleep(0.01)\n",
    "        \n",
    "    for yaw in np.linspace(2 * np.pi, 0, 300):\n",
    "        q = Rotation.from_euler('XYZ', (roll, pitch, yaw)).as_quat()\n",
    "        orb.set_target_orientation(q)\n",
    "        time.sleep(0.01)\n",
    "        \n",
    "    orb.set_target_orientation((0, 0, 0, 1))\n",
    "    time.sleep(1)\n",
    "    \n",
    "    for yaw in np.linspace(0, 2 * np.pi, 100):\n",
    "        q = Rotation.from_euler('XYZ', (roll, pitch, yaw)).as_quat()\n",
    "        orb.set_target_orientation(q)\n",
    "        time.sleep(0.01)\n",
    "        \n",
    "    for yaw in np.linspace(2 * np.pi, 0, 100):\n",
    "        q = Rotation.from_euler('XYZ', (roll, pitch, yaw)).as_quat()\n",
    "        orb.set_target_orientation(q)\n",
    "        time.sleep(0.01)\n",
    "    \n",
    "    orb.set_target_orientation((0, 0, 0, 1))\n",
    "    time.sleep(1)\n",
    "    \n",
    "demo_2()"
   ]
  },
  {
   "cell_type": "code",
   "execution_count": 7,
   "id": "d43d33bb",
   "metadata": {},
   "outputs": [],
   "source": [
    "t0 = time.time()\n",
    "\n",
    "while time.time() - t0 < 10:\n",
    "    t = time.time() - t0\n",
    "    \n",
    "    roll = 0.5 * np.sin(2 * np.pi * 0.25 * t)\n",
    "    pitch = 0.0\n",
    "    yaw = np.sin(2 * np.pi * 0.5 * t)\n",
    "    \n",
    "    q = Rotation.from_euler('XYZ', (roll, pitch, yaw)).as_quat()\n",
    "    orb.set_target_orientation(q)\n",
    "    time.sleep(0.01)\n",
    "    \n",
    "orb.set_target_orientation((0, 0, 0, 1))"
   ]
  },
  {
   "cell_type": "code",
   "execution_count": 6,
   "id": "0be10528",
   "metadata": {},
   "outputs": [],
   "source": []
  },
  {
   "cell_type": "code",
   "execution_count": null,
   "id": "cd07ff99",
   "metadata": {},
   "outputs": [],
   "source": []
  }
 ],
 "metadata": {
  "kernelspec": {
   "display_name": "Python 3 (ipykernel)",
   "language": "python",
   "name": "python3"
  },
  "language_info": {
   "codemirror_mode": {
    "name": "ipython",
    "version": 3
   },
   "file_extension": ".py",
   "mimetype": "text/x-python",
   "name": "python",
   "nbconvert_exporter": "python",
   "pygments_lexer": "ipython3",
   "version": "3.9.10"
  }
 },
 "nbformat": 4,
 "nbformat_minor": 5
}

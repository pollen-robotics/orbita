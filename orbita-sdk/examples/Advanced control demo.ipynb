{
 "cells": [
  {
   "cell_type": "code",
   "execution_count": 1,
   "id": "19efdf77",
   "metadata": {},
   "outputs": [],
   "source": [
    "import time\n",
    "import numpy as np\n",
    "from scipy.spatial.transform import Rotation\n",
    "\n",
    "from orbita_sdk import OrbitaSDK\n",
    "\n",
    "orb = OrbitaSDK(port='/dev/tty.usbserial-0001')"
   ]
  },
  {
   "cell_type": "code",
   "execution_count": 2,
   "id": "e590aae9",
   "metadata": {},
   "outputs": [],
   "source": [
    "orb.enable_torque()"
   ]
  },
  {
   "cell_type": "code",
   "execution_count": 3,
   "id": "bdd64419",
   "metadata": {},
   "outputs": [],
   "source": [
    "orb.set_target_orientation((0, 0, 0, 1))"
   ]
  },
  {
   "cell_type": "code",
   "execution_count": 4,
   "id": "9a8fede6",
   "metadata": {},
   "outputs": [],
   "source": [
    "def demo_1():\n",
    "    orb.set_target_orientation((0, 0, 0, 1))\n",
    "    time.sleep(1)\n",
    "\n",
    "    q = Rotation.from_euler('XYZ', np.deg2rad((30, 0, 0))).as_quat()\n",
    "    orb.set_target_orientation(q)\n",
    "    time.sleep(1)\n",
    "    \n",
    "    q = Rotation.from_euler('XYZ', np.deg2rad((0, 0, 0))).as_quat()\n",
    "    orb.set_target_orientation(q)\n",
    "    time.sleep(1)\n",
    "    \n",
    "    q = Rotation.from_euler('XYZ', np.deg2rad((0, 30, 0))).as_quat()\n",
    "    orb.set_target_orientation(q)\n",
    "    time.sleep(1)\n",
    "    \n",
    "    q = Rotation.from_euler('XYZ', np.deg2rad((0, 0, 0))).as_quat()\n",
    "    orb.set_target_orientation(q)\n",
    "    time.sleep(1)\n",
    "    \n",
    "    q = Rotation.from_euler('XYZ', np.deg2rad((0, 0, 60))).as_quat()\n",
    "    orb.set_target_orientation(q)\n",
    "    time.sleep(1)\n",
    "\n",
    "    q = Rotation.from_euler('XYZ', np.deg2rad((0, 0, 0))).as_quat()\n",
    "    orb.set_target_orientation(q)\n",
    "    time.sleep(1)\n",
    "\n",
    "demo_1()"
   ]
  },
  {
   "cell_type": "code",
   "execution_count": 8,
   "id": "0798e153",
   "metadata": {},
   "outputs": [],
   "source": [
    "def demo_2():\n",
    "    roll = np.deg2rad(25)\n",
    "    pitch = 0.0\n",
    "    \n",
    "    orb.set_target_orientation((0, 0, 0, 1))\n",
    "    time.sleep(1)\n",
    "\n",
    "    for yaw in np.linspace(0, 2 * np.pi, 300):\n",
    "        q = Rotation.from_euler('XYZ', (roll, pitch, yaw)).as_quat()\n",
    "        orb.set_target_orientation(q)\n",
    "        time.sleep(0.01)\n",
    "        \n",
    "    for yaw in np.linspace(2 * np.pi, 0, 300):\n",
    "        q = Rotation.from_euler('XYZ', (roll, pitch, yaw)).as_quat()\n",
    "        orb.set_target_orientation(q)\n",
    "        time.sleep(0.01)\n",
    "        \n",
    "    orb.set_target_orientation((0, 0, 0, 1))\n",
    "    time.sleep(1)\n",
    "    \n",
    "    for yaw in np.linspace(0, 2 * np.pi, 100):\n",
    "        q = Rotation.from_euler('XYZ', (roll, pitch, yaw)).as_quat()\n",
    "        orb.set_target_orientation(q)\n",
    "        time.sleep(0.01)\n",
    "        \n",
    "    for yaw in np.linspace(2 * np.pi, 0, 100):\n",
    "        q = Rotation.from_euler('XYZ', (roll, pitch, yaw)).as_quat()\n",
    "        orb.set_target_orientation(q)\n",
    "        time.sleep(0.01)\n",
    "    \n",
    "    orb.set_target_orientation((0, 0, 0, 1))\n",
    "    time.sleep(1)\n",
    "    \n",
    "demo_2()"
   ]
  },
  {
   "cell_type": "code",
   "execution_count": 7,
   "id": "afbb6c2a",
   "metadata": {},
   "outputs": [],
   "source": [
    "def demo_3():\n",
    "    t0 = time.time()\n",
    "\n",
    "    while time.time() - t0 < 8:\n",
    "        t = time.time() - t0\n",
    "        \n",
    "        roll = 0.5 * np.sin(2 * np.pi * 0.25 * t)\n",
    "        pitch = 0.2 * np.sin(2 * np.pi * 0.125 * t)\n",
    "        yaw = np.sin(2 * np.pi * 0.5 * t)\n",
    "        \n",
    "        q = Rotation.from_euler('XYZ', (roll, pitch, yaw)).as_quat()\n",
    "        orb.set_target_orientation(q)\n",
    "        \n",
    "        time.sleep(0.01)\n",
    "        \n",
    "demo_3()"
   ]
  },
  {
   "cell_type": "code",
   "execution_count": 6,
   "id": "0be10528",
   "metadata": {},
   "outputs": [],
   "source": [
    "def demo_4():\n",
    "    t0 = time.time()\n",
    "\n",
    "    N = 2\n",
    "\n",
    "    for yaw in np.linspace(0, N * 2 * np.pi, N * 100):\n",
    "        orb.set_target_disk_position((yaw, yaw, yaw))\n",
    "        time.sleep(0.01)\n",
    "\n",
    "    for yaw in np.linspace(N * 2 * np.pi, 0, N * 100):\n",
    "        orb.set_target_disk_position((yaw, yaw, yaw))\n",
    "        time.sleep(0.01)\n",
    "        \n",
    "demo_4()"
   ]
  },
  {
   "cell_type": "code",
   "execution_count": 19,
   "id": "cd07ff99",
   "metadata": {},
   "outputs": [
    {
     "data": {
      "text/plain": [
       "(27.4375, 27.375, 27.375)"
      ]
     },
     "execution_count": 19,
     "metadata": {},
     "output_type": "execute_result"
    }
   ],
   "source": [
    "orb.get_current_temperature()"
   ]
  },
  {
   "cell_type": "code",
   "execution_count": null,
   "id": "d99397e9",
   "metadata": {},
   "outputs": [],
   "source": []
  }
 ],
 "metadata": {
  "kernelspec": {
   "display_name": "Python 3 (ipykernel)",
   "language": "python",
   "name": "python3"
  },
  "language_info": {
   "codemirror_mode": {
    "name": "ipython",
    "version": 3
   },
   "file_extension": ".py",
   "mimetype": "text/x-python",
   "name": "python",
   "nbconvert_exporter": "python",
   "pygments_lexer": "ipython3",
   "version": "3.9.10"
  }
 },
 "nbformat": 4,
 "nbformat_minor": 5
}

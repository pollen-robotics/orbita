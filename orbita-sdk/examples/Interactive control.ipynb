{
 "cells": [
  {
   "cell_type": "code",
   "execution_count": 1,
   "id": "721b2cc0",
   "metadata": {},
   "outputs": [],
   "source": [
    "import time\n",
    "import numpy as np\n",
    "\n",
    "from ipywidgets import interact\n",
    "from scipy.spatial.transform import Rotation\n",
    "from threading import Thread\n",
    "\n",
    "from orbita_sdk import OrbitaSDK\n",
    "\n",
    "orb = OrbitaSDK(port='/dev/tty.usbserial-0001')"
   ]
  },
  {
   "cell_type": "code",
   "execution_count": 2,
   "id": "9a1a1d7e",
   "metadata": {},
   "outputs": [],
   "source": [
    "orb.enable_torque()"
   ]
  },
  {
   "cell_type": "code",
   "execution_count": 3,
   "id": "1ef0d75e",
   "metadata": {},
   "outputs": [],
   "source": [
    "running = True\n",
    "\n",
    "rpy_target = [0, 0, 0]\n",
    "\n",
    "def set_target(roll, pitch, yaw, as_deg=False):\n",
    "    if as_deg:\n",
    "        roll = np.deg2rad(roll)\n",
    "        pitch = np.deg2rad(pitch)\n",
    "        yaw = np.deg2rad(yaw)\n",
    "        \n",
    "    rpy_target[0] = roll\n",
    "    rpy_target[1] = pitch\n",
    "    rpy_target[2] = yaw\n",
    "\n",
    "def rpy_loop_control():\n",
    "    while running:\n",
    "        q = Rotation.from_euler('XYZ', rpy_target).as_quat()\n",
    "        orb.set_target_orientation(q)\n",
    "        \n",
    "        time.sleep(0.01)\n",
    "        \n",
    "t = Thread(target=rpy_loop_control)\n",
    "t.start()"
   ]
  },
  {
   "cell_type": "code",
   "execution_count": 4,
   "id": "1d757012",
   "metadata": {},
   "outputs": [
    {
     "data": {
      "application/vnd.jupyter.widget-view+json": {
       "model_id": "65b748d8994041238c2aee9e64a57a8c",
       "version_major": 2,
       "version_minor": 0
      },
      "text/plain": [
       "interactive(children=(IntSlider(value=0, description='roll', max=40, min=-40), IntSlider(value=0, description=…"
      ]
     },
     "metadata": {},
     "output_type": "display_data"
    },
    {
     "data": {
      "text/plain": [
       "<function __main__.rpy_interact(roll, pitch, yaw)>"
      ]
     },
     "execution_count": 4,
     "metadata": {},
     "output_type": "execute_result"
    }
   ],
   "source": [
    "def rpy_interact(roll, pitch, yaw):\n",
    "    set_target(roll, pitch, yaw, as_deg=True)\n",
    "    \n",
    "interact(\n",
    "    rpy_interact,\n",
    "    roll=(-40, 40, 1),\n",
    "    pitch=(-40, 40, 1),\n",
    "    yaw=(-90, 90, 1),\n",
    ")"
   ]
  },
  {
   "cell_type": "code",
   "execution_count": null,
   "id": "7735711b",
   "metadata": {},
   "outputs": [],
   "source": []
  }
 ],
 "metadata": {
  "kernelspec": {
   "display_name": "Python 3 (ipykernel)",
   "language": "python",
   "name": "python3"
  },
  "language_info": {
   "codemirror_mode": {
    "name": "ipython",
    "version": 3
   },
   "file_extension": ".py",
   "mimetype": "text/x-python",
   "name": "python",
   "nbconvert_exporter": "python",
   "pygments_lexer": "ipython3",
   "version": "3.9.10"
  }
 },
 "nbformat": 4,
 "nbformat_minor": 5
}

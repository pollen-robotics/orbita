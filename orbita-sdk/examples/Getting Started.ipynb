{
 "cells": [
  {
   "cell_type": "markdown",
   "id": "4b5fcff1",
   "metadata": {},
   "source": [
    "# Getting started\n",
    "\n",
    "\n",
    "This notebook will guide you in the **first steps required to communicate with an Orbita actuator** via serial communication.\n",
    "\n",
    "We assume that you already followed the wiring, safety and zero sections of the doc and that you have installed the orbita-sdk package and are thus ready to use Orbita."
   ]
  },
  {
   "cell_type": "markdown",
   "id": "5fd62625",
   "metadata": {},
   "source": [
    "## Create an OrbitaSDK object\n",
    "\n",
    "The first step will be to create the OrbitaSDK object. It will handle all the low-level communication and expose high-level methods to directly control orbita.\n",
    "\n",
    "It requires the name of the serial port of the RS485 adapter plugged to Orbita. Depending on your OS, it will have a different name (eg. COM* on Windows, /dev/ttyUSB* on Linux and /dev/tty.usbserial-* on OS X). You can find many good tutorials online to help you find the name on your specfic OS.\n",
    "\n",
    "Once you found the port name, you can simply instantiate the OrbitaSDK object using:"
   ]
  },
  {
   "cell_type": "code",
   "execution_count": 1,
   "id": "9f3c8397",
   "metadata": {},
   "outputs": [],
   "source": [
    "from orbita_sdk import OrbitaSDK\n",
    "\n",
    "# Obviously, replace this value with the port name you've found\n",
    "port_name = '/dev/tty.usbserial-0001'\n",
    "\n",
    "orbita = OrbitaSDK(port_name)"
   ]
  },
  {
   "cell_type": "markdown",
   "id": "3c826fb6",
   "metadata": {},
   "source": [
    "You should now be connected to your Orbita."
   ]
  },
  {
   "cell_type": "markdown",
   "id": "0893c580",
   "metadata": {},
   "source": [
    "To make sure everything is all right, you can ask Orbita for its current orientation. This will return a quaternion."
   ]
  },
  {
   "cell_type": "code",
   "execution_count": 2,
   "id": "18fd970b",
   "metadata": {},
   "outputs": [
    {
     "name": "stdout",
     "output_type": "stream",
     "text": [
      "[0.00342265 0.01465086 0.16732949 0.98578622]\n"
     ]
    }
   ],
   "source": [
    "print(orbita.get_current_orientation())"
   ]
  },
  {
   "cell_type": "markdown",
   "id": "4cae4d0b",
   "metadata": {},
   "source": [
    "You can use scipy to convert the quaternion to euler angles, this may helps you understand better the value:"
   ]
  },
  {
   "cell_type": "code",
   "execution_count": 3,
   "id": "83ca986e",
   "metadata": {},
   "outputs": [
    {
     "name": "stdout",
     "output_type": "stream",
     "text": [
      "[ 0.66782747  1.58957755 19.27663842]\n"
     ]
    }
   ],
   "source": [
    "import numpy as np\n",
    "from scipy.spatial.transform import Rotation\n",
    "\n",
    "q = orbita.get_current_orientation()\n",
    "roll, pitch, yaw = Rotation.from_quat(q).as_euler('xyz')\n",
    "print(np.rad2deg((roll, pitch, yaw)))"
   ]
  },
  {
   "cell_type": "markdown",
   "id": "8b11c5c1",
   "metadata": {},
   "source": [
    "You can freely move Orbita and check how this value is changing."
   ]
  },
  {
   "cell_type": "markdown",
   "id": "6b7369e5",
   "metadata": {},
   "source": [
    "## Stiff mode - enable the torque\n",
    "\n",
    "When Orbita is plugged in, it starts in compliant mode, where you can freely move it. To switch to a stiff mode, where you can control it by sending target position/orientation, simply call:"
   ]
  },
  {
   "cell_type": "code",
   "execution_count": 4,
   "id": "afcb1569",
   "metadata": {},
   "outputs": [],
   "source": [
    "orbita.enable_torque()"
   ]
  },
  {
   "cell_type": "markdown",
   "id": "97453880",
   "metadata": {},
   "source": [
    "Orbita should now be stiff and resist to external forces."
   ]
  },
  {
   "cell_type": "markdown",
   "id": "de467f16",
   "metadata": {},
   "source": [
    "## Send target orientation\n",
    "\n",
    "Now you can send a new target orientation. For instance, to make it go back to the horizontal orientation:"
   ]
  },
  {
   "cell_type": "code",
   "execution_count": 5,
   "id": "7af66f2d",
   "metadata": {},
   "outputs": [],
   "source": [
    "orbita.set_target_orientation((0, 0, 0, 1))"
   ]
  },
  {
   "cell_type": "markdown",
   "id": "da50ae9d",
   "metadata": {},
   "source": [
    "Here as well, you can use scipy to use euler angles as input:"
   ]
  },
  {
   "cell_type": "code",
   "execution_count": 6,
   "id": "c5371d54",
   "metadata": {},
   "outputs": [],
   "source": [
    "roll = np.deg2rad(20)\n",
    "pitch = 0.0\n",
    "yaw = 0.0\n",
    "\n",
    "q = Rotation.from_euler('xyz', (roll, pitch, yaw)).as_quat()\n",
    "orbita.set_target_orientation(q)"
   ]
  },
  {
   "cell_type": "markdown",
   "id": "3021e4d5",
   "metadata": {},
   "source": [
    "## Go back to compliant mode\n",
    "\n",
    "When you want to go back to compliant mode, you can simply call:"
   ]
  },
  {
   "cell_type": "code",
   "execution_count": 7,
   "id": "40296876",
   "metadata": {},
   "outputs": [],
   "source": [
    "orbita.disable_torque()"
   ]
  },
  {
   "cell_type": "markdown",
   "id": "ce494975",
   "metadata": {},
   "source": [
    "## To go further\n",
    "\n",
    "You can also control each disk instead of the orientation by using:\n",
    "\n",
    "* print(orbita.get_current_disk_position())\n",
    "* orbita.set_target_disk_position((top_disk_pos, middle_disk_pos, bottom_disk_pos))\n",
    "\n",
    "You can also check the motor temperature using:\n",
    "* print(orbita.get_current_temperature())"
   ]
  },
  {
   "cell_type": "code",
   "execution_count": null,
   "id": "66fdc1bf",
   "metadata": {},
   "outputs": [],
   "source": []
  }
 ],
 "metadata": {
  "kernelspec": {
   "display_name": "Python 3 (ipykernel)",
   "language": "python",
   "name": "python3"
  },
  "language_info": {
   "codemirror_mode": {
    "name": "ipython",
    "version": 3
   },
   "file_extension": ".py",
   "mimetype": "text/x-python",
   "name": "python",
   "nbconvert_exporter": "python",
   "pygments_lexer": "ipython3",
   "version": "3.9.10"
  }
 },
 "nbformat": 4,
 "nbformat_minor": 5
}

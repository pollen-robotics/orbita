{
 "cells": [
  {
   "cell_type": "markdown",
   "id": "d8f7f9c9",
   "metadata": {},
   "source": [
    "# Interactive Control"
   ]
  },
  {
   "cell_type": "code",
   "execution_count": 1,
   "id": "721b2cc0",
   "metadata": {},
   "outputs": [],
   "source": [
    "import time\n",
    "import numpy as np\n",
    "\n",
    "from ipywidgets import interact\n",
    "from scipy.spatial.transform import Rotation\n",
    "from threading import Thread\n",
    "\n",
    "from orbita_sdk import OrbitaSDK\n",
    "\n",
    "orb = OrbitaSDK(port='/dev/tty.usbserial-0001')"
   ]
  },
  {
   "cell_type": "code",
   "execution_count": 2,
   "id": "ae4a55dc",
   "metadata": {},
   "outputs": [
    {
     "data": {
      "text/plain": [
       "(0.15000000596046448, 0.02500000037252903, 0.016499999910593033)"
      ]
     },
     "execution_count": 2,
     "metadata": {},
     "output_type": "execute_result"
    }
   ],
   "source": [
    "orb.get_pid()"
   ]
  },
  {
   "cell_type": "code",
   "execution_count": 7,
   "id": "ad5745e0",
   "metadata": {},
   "outputs": [],
   "source": [
    "orb.set_pid(0.2, 0.025, 0.0165)\n",
    "\n"
   ]
  },
  {
   "cell_type": "code",
   "execution_count": 4,
   "id": "9a1a1d7e",
   "metadata": {},
   "outputs": [],
   "source": [
    "orb.enable_torque()"
   ]
  },
  {
   "cell_type": "code",
   "execution_count": 5,
   "id": "1ef0d75e",
   "metadata": {},
   "outputs": [],
   "source": [
    "running = True\n",
    "\n",
    "rpy_target = [0, 0, 0]\n",
    "\n",
    "def set_target(roll, pitch, yaw, as_deg=False):\n",
    "    if as_deg:\n",
    "        roll = np.deg2rad(roll)\n",
    "        pitch = np.deg2rad(pitch)\n",
    "        yaw = np.deg2rad(yaw)\n",
    "        \n",
    "    rpy_target[0] = roll\n",
    "    rpy_target[1] = pitch\n",
    "    rpy_target[2] = yaw\n",
    "\n",
    "def rpy_loop_control():\n",
    "    while running:\n",
    "        q = Rotation.from_euler('XYZ', rpy_target).as_quat()\n",
    "        orb.set_target_orientation(q)\n",
    "        \n",
    "        time.sleep(0.01)\n",
    "        \n",
    "t = Thread(target=rpy_loop_control)\n",
    "t.start()"
   ]
  },
  {
   "cell_type": "code",
   "execution_count": 6,
   "id": "1d757012",
   "metadata": {},
   "outputs": [
    {
     "data": {
      "application/vnd.jupyter.widget-view+json": {
       "model_id": "e23e6eeb4d8c472aa67c67b54362845a",
       "version_major": 2,
       "version_minor": 0
      },
      "text/plain": [
       "interactive(children=(IntSlider(value=0, description='roll', max=40, min=-40), IntSlider(value=0, description=…"
      ]
     },
     "metadata": {},
     "output_type": "display_data"
    },
    {
     "data": {
      "text/plain": [
       "<function __main__.rpy_interact(roll, pitch, yaw)>"
      ]
     },
     "execution_count": 6,
     "metadata": {},
     "output_type": "execute_result"
    }
   ],
   "source": [
    "def rpy_interact(roll, pitch, yaw):\n",
    "    set_target(roll, pitch, yaw, as_deg=True)\n",
    "    \n",
    "interact(\n",
    "    rpy_interact,\n",
    "    roll=(-40, 40, 1),\n",
    "    pitch=(-40, 40, 1),\n",
    "    yaw=(-90, 90, 1),\n",
    ")"
   ]
  },
  {
   "cell_type": "code",
   "execution_count": 5,
   "id": "7735711b",
   "metadata": {},
   "outputs": [
    {
     "data": {
      "text/plain": [
       "(22.3125, 22.75, 22.1875)"
      ]
     },
     "execution_count": 5,
     "metadata": {},
     "output_type": "execute_result"
    }
   ],
   "source": [
    "orb.get_current_temperature()"
   ]
  },
  {
   "cell_type": "code",
   "execution_count": 6,
   "id": "3b2f7982",
   "metadata": {},
   "outputs": [],
   "source": [
    "orb.set_target_disk_position((0, 0, 0))"
   ]
  },
  {
   "cell_type": "code",
   "execution_count": 4,
   "id": "d91294f4",
   "metadata": {},
   "outputs": [],
   "source": [
    "orb.disable_torque()"
   ]
  },
  {
   "cell_type": "code",
   "execution_count": 5,
   "id": "94dac234",
   "metadata": {},
   "outputs": [],
   "source": [
    "orb.enable_torque()"
   ]
  },
  {
   "cell_type": "code",
   "execution_count": 8,
   "id": "a20c8516",
   "metadata": {},
   "outputs": [
    {
     "data": {
      "text/plain": [
       "(0.0346915655106445, -0.028319645314811837, -0.0035399556643514797)"
      ]
     },
     "execution_count": 8,
     "metadata": {},
     "output_type": "execute_result"
    }
   ],
   "source": [
    "orb.get_current_disk_position()"
   ]
  },
  {
   "cell_type": "code",
   "execution_count": 9,
   "id": "a778049b",
   "metadata": {},
   "outputs": [
    {
     "data": {
      "text/plain": [
       "(0.15000000596046448, 0.02500000037252903, 0.016499999910593033)"
      ]
     },
     "execution_count": 9,
     "metadata": {},
     "output_type": "execute_result"
    }
   ],
   "source": [
    "orb.get_pid()"
   ]
  },
  {
   "cell_type": "code",
   "execution_count": null,
   "id": "8e2590fc",
   "metadata": {},
   "outputs": [],
   "source": [
    "orb."
   ]
  }
 ],
 "metadata": {
  "kernelspec": {
   "display_name": "Python 3 (ipykernel)",
   "language": "python",
   "name": "python3"
  },
  "language_info": {
   "codemirror_mode": {
    "name": "ipython",
    "version": 3
   },
   "file_extension": ".py",
   "mimetype": "text/x-python",
   "name": "python",
   "nbconvert_exporter": "python",
   "pygments_lexer": "ipython3",
   "version": "3.9.10"
  }
 },
 "nbformat": 4,
 "nbformat_minor": 5
}

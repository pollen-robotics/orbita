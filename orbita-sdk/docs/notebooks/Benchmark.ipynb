{
 "cells": [
  {
   "cell_type": "markdown",
   "id": "72ea04a9",
   "metadata": {},
   "source": [
    "# Bencharmk communication"
   ]
  },
  {
   "cell_type": "code",
   "execution_count": 1,
   "id": "527c4dfd",
   "metadata": {},
   "outputs": [],
   "source": [
    "from orbita_sdk.serial_io import OrbitaSerialIO\n",
    "\n",
    "s = OrbitaSerialIO(port='/dev/tty.usbserial-0001', baudrate=500000, timeout=0.1)"
   ]
  },
  {
   "cell_type": "code",
   "execution_count": 2,
   "id": "3d9e680f",
   "metadata": {},
   "outputs": [
    {
     "data": {
      "text/plain": [
       "[]"
      ]
     },
     "execution_count": 2,
     "metadata": {},
     "output_type": "execute_result"
    }
   ],
   "source": [
    "s.ping(40)"
   ]
  },
  {
   "cell_type": "code",
   "execution_count": 3,
   "id": "29f18b38",
   "metadata": {},
   "outputs": [
    {
     "data": {
      "text/plain": [
       "(0.5682945251464844, 0.06472786305531437)"
      ]
     },
     "execution_count": 3,
     "metadata": {},
     "output_type": "execute_result"
    }
   ],
   "source": [
    "import time\n",
    "import numpy as np\n",
    "\n",
    "l = []\n",
    "\n",
    "for _ in range(1000):\n",
    "    t0 = time.time()\n",
    "    s.ping(40)\n",
    "    t1 = time.time()\n",
    "    l.append(t1 - t0)\n",
    "    \n",
    "np.mean(l) * 1000, np.std(l) * 1000"
   ]
  },
  {
   "cell_type": "code",
   "execution_count": 4,
   "id": "4d39287e",
   "metadata": {},
   "outputs": [
    {
     "data": {
      "text/plain": [
       "([], [3890, 3566, 1185])"
      ]
     },
     "execution_count": 4,
     "metadata": {},
     "output_type": "execute_result"
    }
   ],
   "source": [
    "from orbita_sdk.register import OrbitaRegister\n",
    "\n",
    "s.read(40, OrbitaRegister.Zero)"
   ]
  },
  {
   "cell_type": "code",
   "execution_count": 5,
   "id": "828f9df4",
   "metadata": {},
   "outputs": [
    {
     "data": {
      "text/plain": [
       "(0.9266035556793213, 0.07623934660418333)"
      ]
     },
     "execution_count": 5,
     "metadata": {},
     "output_type": "execute_result"
    }
   ],
   "source": [
    "import time\n",
    "import numpy as np\n",
    "\n",
    "l = []\n",
    "\n",
    "for _ in range(1000):\n",
    "    t0 = time.time()\n",
    "    s.read(40, OrbitaRegister.PresentPosition)\n",
    "    t1 = time.time()\n",
    "    l.append(t1 - t0)\n",
    "    \n",
    "np.mean(l) * 1000, np.std(l) * 1000"
   ]
  },
  {
   "cell_type": "code",
   "execution_count": 6,
   "id": "ba73b9d1",
   "metadata": {},
   "outputs": [
    {
     "name": "stdout",
     "output_type": "stream",
     "text": [
      "TemperatureShutdown: 50.0\n",
      "PresentPosition: [-5, -13, 10]\n",
      "GoalPosition: [0, 0, 0]\n",
      "TorqueEnable: [True, True, True]\n",
      "PID: [0.15000000596046448, 0.02500000037252903, 0.016499999910593033]\n",
      "Temperature: [25.5, 25.8125, 25.3125]\n",
      "Zero: [3890, 3566, 1185]\n",
      "Id: 40\n"
     ]
    }
   ],
   "source": [
    "for reg in OrbitaRegister:\n",
    "    err, val = s.read(40, reg)\n",
    "    if err:\n",
    "        print('ERROR', err)\n",
    "    print(f'{reg.name}: {val}')"
   ]
  },
  {
   "cell_type": "code",
   "execution_count": 8,
   "id": "4503878d",
   "metadata": {},
   "outputs": [
    {
     "name": "stdout",
     "output_type": "stream",
     "text": [
      "([], [0, 0, 0])\n",
      "([], [10, 0, 30])\n"
     ]
    }
   ],
   "source": [
    "print(s.read(40, OrbitaRegister.GoalPosition))\n",
    "s.write(40, OrbitaRegister.GoalPosition, [10, 0, 30])\n",
    "print(s.read(40, OrbitaRegister.GoalPosition))"
   ]
  },
  {
   "cell_type": "code",
   "execution_count": 9,
   "id": "df7a184c",
   "metadata": {},
   "outputs": [
    {
     "name": "stdout",
     "output_type": "stream",
     "text": [
      "([], [[1.0, 0.0, 0.0], [1.0, 0.0, 0.0], [1.0, 0.0, 0.0]])\n",
      "([], [[1.0, 0.0, 0.0], [2.0, 0.0, 0.0], [1.5, 9.999999747378752e-05, 0.0]])\n"
     ]
    }
   ],
   "source": [
    "print(s.read(40, OrbitaRegister.PID))\n",
    "s.write(40, OrbitaRegister.PID, [[1.0, 0.0, 0.0], [2.0, 0.0, 0.0], [1.5, 0.0001, 0.0]])\n",
    "print(s.read(40, OrbitaRegister.PID))"
   ]
  },
  {
   "cell_type": "code",
   "execution_count": 10,
   "id": "dbf6980b",
   "metadata": {},
   "outputs": [
    {
     "name": "stdout",
     "output_type": "stream",
     "text": [
      "([], [False, False, False])\n",
      "([], [False, True, False])\n"
     ]
    }
   ],
   "source": [
    "print(s.read(40, OrbitaRegister.TorqueEnable))\n",
    "s.write(40, OrbitaRegister.TorqueEnable, [False, True, False])\n",
    "print(s.read(40, OrbitaRegister.TorqueEnable))"
   ]
  },
  {
   "cell_type": "code",
   "execution_count": 11,
   "id": "d6bc1fc2",
   "metadata": {},
   "outputs": [
    {
     "data": {
      "text/plain": [
       "[]"
      ]
     },
     "execution_count": 11,
     "metadata": {},
     "output_type": "execute_result"
    }
   ],
   "source": [
    "s.write(40, OrbitaRegister.TorqueEnable, [True, True, True])"
   ]
  },
  {
   "cell_type": "code",
   "execution_count": 12,
   "id": "38aa3d5c",
   "metadata": {},
   "outputs": [
    {
     "data": {
      "text/plain": [
       "([], [0.0, 0.0, 0.0])"
      ]
     },
     "execution_count": 12,
     "metadata": {},
     "output_type": "execute_result"
    }
   ],
   "source": [
    "s.read(40, OrbitaRegister.Temperature)"
   ]
  },
  {
   "cell_type": "code",
   "execution_count": 13,
   "id": "0cfea633",
   "metadata": {},
   "outputs": [],
   "source": [
    "l = []\n",
    "\n",
    "t0 = time.time()\n",
    "\n",
    "for _ in range(100):\n",
    "    s.write(40, OrbitaRegister.GoalPosition, [10, 0, 30])\n",
    "    s.read(40, OrbitaRegister.PresentPosition)\n",
    "\n",
    "    t = time.time()\n",
    "    dt = t - t0\n",
    "\n",
    "    sleep_time = (0.01 - dt) - 0.001\n",
    "\n",
    "    if sleep_time > 0:\n",
    "        time.sleep(sleep_time)\n",
    "    \n",
    "    t0 = time.time()\n",
    "    l.append(time.time())"
   ]
  },
  {
   "cell_type": "code",
   "execution_count": 7,
   "id": "4729acc7",
   "metadata": {},
   "outputs": [
    {
     "data": {
      "text/plain": [
       "(1.8284246921539307, 0.09776431077995759)"
      ]
     },
     "execution_count": 7,
     "metadata": {},
     "output_type": "execute_result"
    }
   ],
   "source": [
    "l = []\n",
    "\n",
    "for _ in range(10000):\n",
    "    t0 = time.time()\n",
    "    s.write(40, OrbitaRegister.GoalPosition, [10, 0, 30])\n",
    "    s.read(40, OrbitaRegister.PresentPosition)\n",
    "    t1 = time.time()\n",
    "    \n",
    "    l.append(t1 - t0)\n",
    "\n",
    "dt = np.array(l) * 1000\n",
    "dt.mean(), dt.std()"
   ]
  },
  {
   "cell_type": "code",
   "execution_count": null,
   "id": "889ffbb3",
   "metadata": {},
   "outputs": [],
   "source": []
  }
 ],
 "metadata": {
  "kernelspec": {
   "display_name": "Python 3 (ipykernel)",
   "language": "python",
   "name": "python3"
  },
  "language_info": {
   "codemirror_mode": {
    "name": "ipython",
    "version": 3
   },
   "file_extension": ".py",
   "mimetype": "text/x-python",
   "name": "python",
   "nbconvert_exporter": "python",
   "pygments_lexer": "ipython3",
   "version": "3.9.10"
  }
 },
 "nbformat": 4,
 "nbformat_minor": 5
}
